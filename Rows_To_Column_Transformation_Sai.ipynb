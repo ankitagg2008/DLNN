{
 "cells": [
  {
   "cell_type": "code",
   "execution_count": 7,
   "id": "ddbef3ad",
   "metadata": {},
   "outputs": [
    {
     "name": "stdout",
     "output_type": "stream",
     "text": [
      "Current working directory: C:\\AKA\\Backup Dell Laptop\\D Drive\\YU\\Semester 2\\Neural Network\\DLNN\n"
     ]
    }
   ],
   "source": [
    "import os\n",
    "print(\"Current working directory:\", os.getcwd())\n"
   ]
  },
  {
   "cell_type": "code",
   "execution_count": 15,
   "id": "8bb4a898",
   "metadata": {},
   "outputs": [
    {
     "name": "stdout",
     "output_type": "stream",
     "text": [
      "Data transformation complete. Output saved to Output_Katz_Alumni_Emails_for_Newsletter.xlsx\n"
     ]
    }
   ],
   "source": [
    "import pandas as pd\n",
    "\n",
    "# Read the Excel file into a DataFrame\n",
    "input_file = 'Input_Katz_Alumni_Emails_for_Newsletter.xlsx'\n",
    "df = pd.read_excel(input_file)\n",
    "\n",
    "# Create a list to store the transformed data\n",
    "transformed_data = []\n",
    "\n",
    "# Iterate through each row in the DataFrame\n",
    "for _, row in df.iterrows():\n",
    "    bannerid = row['Banner ID']\n",
    "    LName = row['LName']\n",
    "    FName = row['FName']\n",
    "\n",
    "    # Extract email addresses and add them as separate rows\n",
    "    for email_col in ['email', 'preferred', 'email_1', 'email_2', 'email_3']:\n",
    "        email = row[email_col]\n",
    "        transformed_data.append([bannerid, LName, FName, email])\n",
    "\n",
    "# Create a new DataFrame with the transformed data\n",
    "output_df = pd.DataFrame(transformed_data, columns=['bannerid', 'LName', 'FName', 'Email'])\n",
    "\n",
    "# Save the transformed data to a new Excel file\n",
    "output_file = 'Output_Katz_Alumni_Emails_for_Newsletter.xlsx'  # Replace with your desired output file path\n",
    "output_df.to_excel(output_file, index=False)\n",
    "\n",
    "print(\"Data transformation complete. Output saved to\", output_file)\n"
   ]
  },
  {
   "cell_type": "code",
   "execution_count": null,
   "id": "c13082ac",
   "metadata": {},
   "outputs": [],
   "source": []
  }
 ],
 "metadata": {
  "kernelspec": {
   "display_name": "Python 3 (ipykernel)",
   "language": "python",
   "name": "python3"
  },
  "language_info": {
   "codemirror_mode": {
    "name": "ipython",
    "version": 3
   },
   "file_extension": ".py",
   "mimetype": "text/x-python",
   "name": "python",
   "nbconvert_exporter": "python",
   "pygments_lexer": "ipython3",
   "version": "3.11.3"
  }
 },
 "nbformat": 4,
 "nbformat_minor": 5
}
