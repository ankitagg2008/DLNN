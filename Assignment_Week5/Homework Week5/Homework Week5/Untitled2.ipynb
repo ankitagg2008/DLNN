{
 "cells": [
  {
   "cell_type": "code",
   "execution_count": 3,
   "id": "99bd9ed4",
   "metadata": {},
   "outputs": [],
   "source": [
    "from torch.utils.data import DataLoader, Dataset\n",
    "import torchvision.transforms as T\n",
    "import torch\n",
    "import torch.nn as nn\n",
    "from torchvision.utils import make_grid\n",
    "from torchvision.utils import save_image\n",
    "from IPython.display import Image\n",
    "import matplotlib.pyplot as plt\n",
    "import numpy as np\n",
    "import random"
   ]
  },
  {
   "cell_type": "code",
   "execution_count": 6,
   "id": "98e56674",
   "metadata": {},
   "outputs": [
    {
     "ename": "PermissionError",
     "evalue": "[Errno 13] Permission denied: 'C:\\\\AKA\\\\Backup Dell Laptop\\\\D Drive\\\\YU\\\\Semester 2\\\\Neural Network\\\\DLNN\\\\Assignment_Week5\\\\Homework Week5\\\\Homework Week5\\\\Training\\\\Train_1'",
     "output_type": "error",
     "traceback": [
      "\u001b[1;31m---------------------------------------------------------------------------\u001b[0m",
      "\u001b[1;31mPermissionError\u001b[0m                           Traceback (most recent call last)",
      "Cell \u001b[1;32mIn[6], line 13\u001b[0m\n\u001b[0;32m     11\u001b[0m \u001b[38;5;28;01mif\u001b[39;00m file_list:\n\u001b[0;32m     12\u001b[0m     first_file \u001b[38;5;241m=\u001b[39m os\u001b[38;5;241m.\u001b[39mpath\u001b[38;5;241m.\u001b[39mjoin(DATA_DIR, file_list[\u001b[38;5;241m0\u001b[39m])\n\u001b[1;32m---> 13\u001b[0m     X_train \u001b[38;5;241m=\u001b[39m np\u001b[38;5;241m.\u001b[39mload(first_file)\n\u001b[0;32m     14\u001b[0m     \u001b[38;5;28mprint\u001b[39m(\u001b[38;5;124mf\u001b[39m\u001b[38;5;124m\"\u001b[39m\u001b[38;5;124mShape of training data: \u001b[39m\u001b[38;5;132;01m{\u001b[39;00mX_train\u001b[38;5;241m.\u001b[39mshape\u001b[38;5;132;01m}\u001b[39;00m\u001b[38;5;124m\"\u001b[39m)\n\u001b[0;32m     15\u001b[0m     \u001b[38;5;28mprint\u001b[39m(\u001b[38;5;124mf\u001b[39m\u001b[38;5;124m\"\u001b[39m\u001b[38;5;124mData type: \u001b[39m\u001b[38;5;132;01m{\u001b[39;00m\u001b[38;5;28mtype\u001b[39m(X_train)\u001b[38;5;132;01m}\u001b[39;00m\u001b[38;5;124m\"\u001b[39m)\n",
      "File \u001b[1;32m~\\anaconda3\\envs\\aka\\Lib\\site-packages\\numpy\\lib\\npyio.py:405\u001b[0m, in \u001b[0;36mload\u001b[1;34m(file, mmap_mode, allow_pickle, fix_imports, encoding, max_header_size)\u001b[0m\n\u001b[0;32m    403\u001b[0m     own_fid \u001b[38;5;241m=\u001b[39m \u001b[38;5;28;01mFalse\u001b[39;00m\n\u001b[0;32m    404\u001b[0m \u001b[38;5;28;01melse\u001b[39;00m:\n\u001b[1;32m--> 405\u001b[0m     fid \u001b[38;5;241m=\u001b[39m stack\u001b[38;5;241m.\u001b[39menter_context(\u001b[38;5;28mopen\u001b[39m(os_fspath(file), \u001b[38;5;124m\"\u001b[39m\u001b[38;5;124mrb\u001b[39m\u001b[38;5;124m\"\u001b[39m))\n\u001b[0;32m    406\u001b[0m     own_fid \u001b[38;5;241m=\u001b[39m \u001b[38;5;28;01mTrue\u001b[39;00m\n\u001b[0;32m    408\u001b[0m \u001b[38;5;66;03m# Code to distinguish from NumPy binary files and pickles.\u001b[39;00m\n",
      "\u001b[1;31mPermissionError\u001b[0m: [Errno 13] Permission denied: 'C:\\\\AKA\\\\Backup Dell Laptop\\\\D Drive\\\\YU\\\\Semester 2\\\\Neural Network\\\\DLNN\\\\Assignment_Week5\\\\Homework Week5\\\\Homework Week5\\\\Training\\\\Train_1'"
     ]
    }
   ],
   "source": [
    "import os\n",
    "import numpy as np\n",
    "\n",
    "image_size = 64\n",
    "DATA_DIR = r'C:\\AKA\\Backup Dell Laptop\\D Drive\\YU\\Semester 2\\Neural Network\\DLNN\\Assignment_Week5\\Homework Week5\\Homework Week5\\Training'\n",
    "\n",
    "# List the files in the directory\n",
    "file_list = os.listdir(DATA_DIR)\n",
    "\n",
    "# Assuming you want to load the first file in the directory, you can do this:\n",
    "if file_list:\n",
    "    first_file = os.path.join(DATA_DIR, file_list[0])\n",
    "    X_train = np.load(first_file)\n",
    "    print(f\"Shape of training data: {X_train.shape}\")\n",
    "    print(f\"Data type: {type(X_train)}\")\n",
    "else:\n",
    "    print(\"No files found in the specified directory.\")\n"
   ]
  },
  {
   "cell_type": "code",
   "execution_count": null,
   "id": "8331f6b7",
   "metadata": {},
   "outputs": [],
   "source": [
    "data = X_train.astype(np.float64)\n",
    "data = 255 * data\n",
    "img = data.astype(np.uint8)\n",
    "X_train = img\n",
    "class croppedDataset(Dataset):\n",
    "    'Characterizes a dataset for PyTorch'\n",
    "    def __init__(self, ims):\n",
    "        'Initialization'\n",
    "        self.ims = ims\n",
    "def __len__(self):\n",
    "        'Denotes the total number of samples'\n",
    "        return len(self.ims)\n",
    "def __getitem__(self, index):\n",
    "        'Generates one sample of data'\n",
    "        # Select sample\n",
    "        image = self.ims[index]\n",
    "        X = self.transform(image)\n",
    "        return X\n",
    "        \n",
    "    transform = T.Compose([\n",
    "        T.ToPILImage(),\n",
    "        T.CenterCrop(0.75 * 64),\n",
    "        T.Resize(image_size),\n",
    "        #T.RandomResizedCrop(image_size),\n",
    "        T.RandomHorizontalFlip(),\n",
    "        T.ToTensor()])\n",
    "    \n",
    "batch_size = 64\n",
    "cropped_dataset = croppedDataset(ims=X_train)\n",
    "train_dl = DataLoader(cropped_dataset, batch_size, shuffle=True, num_workers=3, pin_memory=True)\n",
    "show_batch(train_dl)"
   ]
  },
  {
   "cell_type": "code",
   "execution_count": null,
   "id": "a7d51d27",
   "metadata": {},
   "outputs": [],
   "source": []
  }
 ],
 "metadata": {
  "kernelspec": {
   "display_name": "Python 3 (ipykernel)",
   "language": "python",
   "name": "python3"
  },
  "language_info": {
   "codemirror_mode": {
    "name": "ipython",
    "version": 3
   },
   "file_extension": ".py",
   "mimetype": "text/x-python",
   "name": "python",
   "nbconvert_exporter": "python",
   "pygments_lexer": "ipython3",
   "version": "3.11.4"
  }
 },
 "nbformat": 4,
 "nbformat_minor": 5
}
