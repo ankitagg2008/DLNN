{
 "cells": [
  {
   "cell_type": "code",
   "execution_count": null,
   "id": "22d49267",
   "metadata": {},
   "outputs": [],
   "source": [
    "import matplotlib.pyplot as plt\n",
    "from PIL import Image, ImageFilter\n",
    "import numpy as np\n",
    "import math\n",
    "import scipy\n",
    "import scipy.ndimage\n",
    "from skimage import feature"
   ]
  },
  {
   "cell_type": "markdown",
   "id": "6b914f82",
   "metadata": {},
   "source": [
    "# 1. Calculate Image gradient of tiger image (20 points)\n",
    "\n",
    "- read and show the tiger image\n",
    "- show the gradient of x and y, respectively"
   ]
  },
  {
   "cell_type": "code",
   "execution_count": null,
   "id": "150dda3b",
   "metadata": {},
   "outputs": [],
   "source": []
  },
  {
   "cell_type": "markdown",
   "id": "7a235808",
   "metadata": {},
   "source": [
    "# 2. Implement Sobel edge detection of bird image (30 points)\n",
    "\n",
    "- read and show the bird image\n",
    "- show the gradient of x and y, respectively\n",
    "- show gradient magnitude\n",
    "- show results of different thresholds\n"
   ]
  },
  {
   "cell_type": "code",
   "execution_count": null,
   "id": "078890fa",
   "metadata": {},
   "outputs": [],
   "source": []
  },
  {
   "cell_type": "markdown",
   "id": "45f5a1df",
   "metadata": {},
   "source": [
    "# 3. Implement LOG edge detection of bird image (20 points)\n",
    "\n",
    "- read and show the bird image\n",
    "- show results of LOG edge detection"
   ]
  },
  {
   "cell_type": "code",
   "execution_count": null,
   "id": "a6d77b86",
   "metadata": {},
   "outputs": [],
   "source": []
  },
  {
   "cell_type": "markdown",
   "id": "813e4908",
   "metadata": {},
   "source": [
    "# 4. Implement Canny edge detection of bird image (20 points)\n",
    "\n",
    "- show results of Canny edge detection"
   ]
  },
  {
   "cell_type": "code",
   "execution_count": null,
   "id": "e47b5f92",
   "metadata": {},
   "outputs": [],
   "source": []
  },
  {
   "cell_type": "markdown",
   "id": "77b0166f",
   "metadata": {},
   "source": [
    "# 5. Given Gaussian function: $g(x,y) = \\frac{1}{\\sqrt{2\\pi}\\sigma} e^{(-\\frac{x^2 + y^2}{2\\sigma^2})}$ , calculate $\\frac{\\partial^2 g}{\\partial x^2} + \\frac{\\partial^2 g}{\\partial y^2}$ \n",
    "# (10 points)\n",
    "\n",
    "(You can search for how to use LaTex to write equations if you don't know how to write.)"
   ]
  },
  {
   "cell_type": "code",
   "execution_count": null,
   "id": "8748071f",
   "metadata": {},
   "outputs": [],
   "source": []
  }
 ],
 "metadata": {
  "kernelspec": {
   "display_name": "Python 3 (ipykernel)",
   "language": "python",
   "name": "python3"
  },
  "language_info": {
   "codemirror_mode": {
    "name": "ipython",
    "version": 3
   },
   "file_extension": ".py",
   "mimetype": "text/x-python",
   "name": "python",
   "nbconvert_exporter": "python",
   "pygments_lexer": "ipython3",
   "version": "3.10.6"
  }
 },
 "nbformat": 4,
 "nbformat_minor": 5
}
