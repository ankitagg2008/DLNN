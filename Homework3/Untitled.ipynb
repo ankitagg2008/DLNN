{
 "cells": [
  {
   "cell_type": "code",
   "execution_count": null,
   "id": "d463ae61",
   "metadata": {},
   "outputs": [],
   "source": [
    "import pandas as pd\n",
    "\n",
    "# Read the Excel file into a DataFrame\n",
    "input_file = 'your_input_file.xlsx'  # Replace with the path to your Excel file\n",
    "df = pd.read_excel(input_file)\n",
    "\n",
    "# Create a list to store the transformed data\n",
    "transformed_data = []\n",
    "\n",
    "# Iterate through each row in the DataFrame\n",
    "for _, row in df.iterrows():\n",
    "    bannerid = row['bannerid']\n",
    "    first_name = row['first name']\n",
    "    last_name = row['last name']\n",
    "    \n",
    "    # Extract email addresses and add them as separate rows\n",
    "    for email_col in ['email1', 'email2', 'email3']:\n",
    "        email = row[email_col]\n",
    "        transformed_data.append([bannerid, first_name, last_name, email])\n",
    "\n",
    "# Create a new DataFrame with the transformed data\n",
    "output_df = pd.DataFrame(transformed_data, columns=['bannerid', 'first name', 'last name', 'Email'])\n",
    "\n",
    "# Save the transformed data to a new Excel file\n",
    "output_file = 'output_file.xlsx'  # Replace with your desired output file path\n",
    "output_df.to_excel(output_file, index=False)\n",
    "\n",
    "print(\"Data transformation complete. Output saved to\", output_file)\n"
   ]
  }
 ],
 "metadata": {
  "kernelspec": {
   "display_name": "Python 3 (ipykernel)",
   "language": "python",
   "name": "python3"
  },
  "language_info": {
   "codemirror_mode": {
    "name": "ipython",
    "version": 3
   },
   "file_extension": ".py",
   "mimetype": "text/x-python",
   "name": "python",
   "nbconvert_exporter": "python",
   "pygments_lexer": "ipython3",
   "version": "3.11.3"
  }
 },
 "nbformat": 4,
 "nbformat_minor": 5
}
