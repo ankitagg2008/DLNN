{
 "cells": [
  {
   "cell_type": "markdown",
   "id": "5b81e8cb",
   "metadata": {},
   "source": [
    "# 1. Apply Averaging filter of image eye2_1 with \n",
    "## Uniform weights: [1 1 1; 1 1 1; 1 1 1]* (1/9) and\n",
    "## nonuniform weights: [1 2 1; 2 4 2; 1 2 1]* (1/16) "
   ]
  },
  {
   "cell_type": "code",
   "execution_count": null,
   "id": "140adf26",
   "metadata": {},
   "outputs": [],
   "source": []
  },
  {
   "cell_type": "markdown",
   "id": "5a9286a7",
   "metadata": {},
   "source": [
    "# 2. Show the 3D Gaussian function"
   ]
  },
  {
   "cell_type": "code",
   "execution_count": null,
   "id": "b60973ab",
   "metadata": {},
   "outputs": [],
   "source": []
  },
  {
   "cell_type": "markdown",
   "id": "5341346e",
   "metadata": {},
   "source": [
    "# 3. Apply Gaussian image filtering of image eye2_1 "
   ]
  },
  {
   "cell_type": "code",
   "execution_count": null,
   "id": "35d2eca1",
   "metadata": {},
   "outputs": [],
   "source": []
  },
  {
   "cell_type": "markdown",
   "id": "5a2ef160",
   "metadata": {},
   "source": [
    "# 4. Apply Unsharp mask of image eye2_1 "
   ]
  },
  {
   "cell_type": "code",
   "execution_count": null,
   "id": "8e86e893",
   "metadata": {},
   "outputs": [],
   "source": []
  },
  {
   "cell_type": "markdown",
   "id": "01bfd205",
   "metadata": {},
   "source": [
    "# 5. Remove noise of noise_bridge image using\n",
    "## Gaussain filter\n",
    "## Uniform filter\n",
    "## Median filter"
   ]
  },
  {
   "cell_type": "code",
   "execution_count": null,
   "id": "6a90f058",
   "metadata": {},
   "outputs": [],
   "source": []
  }
 ],
 "metadata": {
  "kernelspec": {
   "display_name": "Python 3 (ipykernel)",
   "language": "python",
   "name": "python3"
  },
  "language_info": {
   "codemirror_mode": {
    "name": "ipython",
    "version": 3
   },
   "file_extension": ".py",
   "mimetype": "text/x-python",
   "name": "python",
   "nbconvert_exporter": "python",
   "pygments_lexer": "ipython3",
   "version": "3.9.13"
  }
 },
 "nbformat": 4,
 "nbformat_minor": 5
}
